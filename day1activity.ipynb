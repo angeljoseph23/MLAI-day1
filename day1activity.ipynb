{
  "nbformat": 4,
  "nbformat_minor": 0,
  "metadata": {
    "colab": {
      "provenance": [],
      "authorship_tag": "ABX9TyOu6JyHv1NyL3T8mqJZF4v8",
      "include_colab_link": true
    },
    "kernelspec": {
      "name": "python3",
      "display_name": "Python 3"
    },
    "language_info": {
      "name": "python"
    }
  },
  "cells": [
    {
      "cell_type": "markdown",
      "metadata": {
        "id": "view-in-github",
        "colab_type": "text"
      },
      "source": [
        "<a href=\"https://colab.research.google.com/github/angeljoseph23/MLAI-day1/blob/main/day1activity.ipynb\" target=\"_parent\"><img src=\"https://colab.research.google.com/assets/colab-badge.svg\" alt=\"Open In Colab\"/></a>"
      ]
    },
    {
      "cell_type": "code",
      "execution_count": null,
      "metadata": {
        "colab": {
          "base_uri": "https://localhost:8080/"
        },
        "id": "EGKaVYJaDsYl",
        "outputId": "6b559d59-4043-4316-f079-6afa8364a89f"
      },
      "outputs": [
        {
          "output_type": "stream",
          "name": "stdout",
          "text": [
            "Enter your name: angel\n",
            "Welcome to Data Analytics angel\n"
          ]
        }
      ],
      "source": [
        "name = input(\"Enter your name: \")\n",
        "print(\"Welcome to Data Analytics\", name)\n"
      ]
    },
    {
      "cell_type": "code",
      "source": [
        "favorite_snack = \"Chips\"\n",
        "print(\"I love munching on {} during meetings\".format(favorite_snack))\n"
      ],
      "metadata": {
        "colab": {
          "base_uri": "https://localhost:8080/"
        },
        "id": "HEi1R8SMFyws",
        "outputId": "c68bc04f-ac96-4553-84d0-8ad917d347de"
      },
      "execution_count": null,
      "outputs": [
        {
          "output_type": "stream",
          "name": "stdout",
          "text": [
            "I love munching on Chips during meetings\n"
          ]
        }
      ]
    },
    {
      "cell_type": "code",
      "source": [
        "tasks_completed = 15\n",
        "next_week_tasks = tasks_completed * 2\n",
        "print(f\"Tasks expected next week: {next_week_tasks}\")\n"
      ],
      "metadata": {
        "colab": {
          "base_uri": "https://localhost:8080/"
        },
        "id": "r_vHcDDdHmvK",
        "outputId": "8ab5332a-ce42-4839-cce2-4620d475ddec"
      },
      "execution_count": null,
      "outputs": [
        {
          "output_type": "stream",
          "name": "stdout",
          "text": [
            "Tasks expected next week: 30\n"
          ]
        }
      ]
    },
    {
      "cell_type": "code",
      "source": [
        "income = 5000\n",
        "expenses = 3200\n",
        "savings = income - expenses\n",
        "print(f\"Monthly savings: ${savings}\")\n"
      ],
      "metadata": {
        "colab": {
          "base_uri": "https://localhost:8080/"
        },
        "id": "FnIHmxPhHpYj",
        "outputId": "fe72a0d0-904b-4f32-86fb-6931983daa9a"
      },
      "execution_count": null,
      "outputs": [
        {
          "output_type": "stream",
          "name": "stdout",
          "text": [
            "Monthly savings: $1800\n"
          ]
        }
      ]
    },
    {
      "cell_type": "code",
      "source": [
        "friends = 5\n",
        "popcorn_per_friend = 2\n",
        "total_popcorn = friends * popcorn_per_friend\n",
        "print(f\"Total popcorn bags needed: {total_popcorn}\")\n"
      ],
      "metadata": {
        "colab": {
          "base_uri": "https://localhost:8080/"
        },
        "id": "RUVgVDSjHwvQ",
        "outputId": "cbf093d9-92dd-4c37-ddb3-59cab2450fd9"
      },
      "execution_count": null,
      "outputs": [
        {
          "output_type": "stream",
          "name": "stdout",
          "text": [
            "Total popcorn bags needed: 10\n"
          ]
        }
      ]
    },
    {
      "cell_type": "code",
      "source": [
        "rating = int(input(\"Rate the product (1-5): \"))\n",
        "if rating > 3:\n",
        "    print(\"Thanks for the great rating!\")\n",
        "else:\n",
        "    print(\"We'll work on improving it!\")"
      ],
      "metadata": {
        "colab": {
          "base_uri": "https://localhost:8080/"
        },
        "id": "nGvbCvUUIAen",
        "outputId": "a1d3fb1a-d8b6-4c24-d497-15f68626f200"
      },
      "execution_count": null,
      "outputs": [
        {
          "output_type": "stream",
          "name": "stdout",
          "text": [
            "Rate the product (1-5): 4\n",
            "Thanks for the great rating!\n"
          ]
        }
      ]
    },
    {
      "cell_type": "code",
      "source": [
        "sales_last_month = 50\n",
        "sales_this_month = 75\n",
        "sales_next_month = 100\n",
        "average_sales = (sales_last_month + sales_this_month + sales_next_month) / 3\n",
        "print(f\"Average sales over three months: {average_sales}\")\n",
        "\n"
      ],
      "metadata": {
        "colab": {
          "base_uri": "https://localhost:8080/"
        },
        "id": "T5aZQJ8_Ir3H",
        "outputId": "ed0bdb29-1c20-46d1-d5d7-88ff8040efa0"
      },
      "execution_count": null,
      "outputs": [
        {
          "output_type": "stream",
          "name": "stdout",
          "text": [
            "Average sales over three months: 75.0\n"
          ]
        }
      ]
    },
    {
      "cell_type": "code",
      "source": [
        "principal = 500\n",
        "rate = 0.04\n",
        "time = 3\n",
        "simple_interest = principal * rate * time\n",
        "total_amount = principal + simple_interest\n",
        "print(f\"Total amount after 3 years: ${total_amount}\")\n",
        "\n"
      ],
      "metadata": {
        "colab": {
          "base_uri": "https://localhost:8080/"
        },
        "id": "J9IVDiWYI6-M",
        "outputId": "9a1b4f6c-61df-44de-ec17-21412862c2c9"
      },
      "execution_count": null,
      "outputs": [
        {
          "output_type": "stream",
          "name": "stdout",
          "text": [
            "Total amount after 3 years: $560.0\n"
          ]
        }
      ]
    },
    {
      "cell_type": "code",
      "source": [
        "guests = 10\n",
        "slices_per_guest = 1\n",
        "slices_per_cake = 8\n",
        "total_slices_needed = guests * slices_per_guest\n",
        "cakes_needed = (total_slices_needed + slices_per_cake - 1) // slices_per_cake  # Ceiling division\n",
        "print(f\"You need {cakes_needed} cakes for the party.\")\n",
        "\n"
      ],
      "metadata": {
        "colab": {
          "base_uri": "https://localhost:8080/"
        },
        "id": "I5bUhuIFI88E",
        "outputId": "46e921ff-3b15-4122-fc26-f5fb3e9eae0e"
      },
      "execution_count": null,
      "outputs": [
        {
          "output_type": "stream",
          "name": "stdout",
          "text": [
            "You need 2 cakes for the party.\n"
          ]
        }
      ]
    },
    {
      "cell_type": "code",
      "source": [
        "text = \"Empowering data decisions\"\n",
        "if len(text) > 10:\n",
        "    print(\"That's a strong and long message!\")\n",
        "else:\n",
        "    print(\"Short and sweet!\")\n",
        "\n"
      ],
      "metadata": {
        "colab": {
          "base_uri": "https://localhost:8080/"
        },
        "id": "VF6fx2ECJDAh",
        "outputId": "ebe189ad-2d35-4326-f829-8fae98bfe878"
      },
      "execution_count": null,
      "outputs": [
        {
          "output_type": "stream",
          "name": "stdout",
          "text": [
            "That's a strong and long message!\n"
          ]
        }
      ]
    },
    {
      "cell_type": "code",
      "source": [
        "product_A_sales = 250\n",
        "product_B_sales = 300\n",
        "if product_A_sales > product_B_sales:\n",
        "    print(\"Product A sold more!\")\n",
        "else:\n",
        "    print(\"Product B sold more!\")\n"
      ],
      "metadata": {
        "colab": {
          "base_uri": "https://localhost:8080/"
        },
        "id": "20B21Dq6TfU3",
        "outputId": "6cf0c5ab-fc1a-4fd5-b207-164d14269385"
      },
      "execution_count": null,
      "outputs": [
        {
          "output_type": "stream",
          "name": "stdout",
          "text": [
            "Product B sold more!\n"
          ]
        }
      ]
    },
    {
      "cell_type": "code",
      "source": [
        "scholarship_received = 750\n",
        "total_scholarship = 1000\n",
        "percentage = (scholarship_received / total_scholarship) * 100\n",
        "print(f\"Congratulations! You received {percentage}% scholarship.\")\n",
        "\n"
      ],
      "metadata": {
        "colab": {
          "base_uri": "https://localhost:8080/"
        },
        "id": "ANv-oopuTy5T",
        "outputId": "26853ce1-ab71-4ed9-9fc4-3b1f69430aec"
      },
      "execution_count": null,
      "outputs": [
        {
          "output_type": "stream",
          "name": "stdout",
          "text": [
            "Congratulations! You received 75.0% scholarship.\n"
          ]
        }
      ]
    },
    {
      "cell_type": "code",
      "source": [
        "favorite_color = \"Blue\"\n",
        "print(f\"My favorite color is {favorite_color}\")\n",
        "\n",
        "# 14. Basic Arithmetic\n",
        "a = 10\n",
        "b = 20\n",
        "sum_result = a + b\n",
        "print(f\"Sum of a and b is: {sum_result}\")\n"
      ],
      "metadata": {
        "colab": {
          "base_uri": "https://localhost:8080/"
        },
        "id": "5a9xGNRrXzXb",
        "outputId": "78d0dca1-9215-4ee9-94a9-2f03ac1e6cad"
      },
      "execution_count": null,
      "outputs": [
        {
          "output_type": "stream",
          "name": "stdout",
          "text": [
            "My favorite color is Blue\n",
            "Sum of a and b is: 30\n"
          ]
        }
      ]
    },
    {
      "cell_type": "code",
      "source": [
        "a = 10\n",
        "b = 20\n",
        "result = a + b\n",
        "print(\"The sum is:\", result)"
      ],
      "metadata": {
        "colab": {
          "base_uri": "https://localhost:8080/"
        },
        "id": "GQ1jSU-jxMBo",
        "outputId": "25890597-4352-4e95-df68-c246494f8664"
      },
      "execution_count": null,
      "outputs": [
        {
          "output_type": "stream",
          "name": "stdout",
          "text": [
            "The sum is: 30\n"
          ]
        }
      ]
    },
    {
      "cell_type": "code",
      "source": [
        "length = 5\n",
        "width = 3\n",
        "area_rectangle = length * width\n",
        "print(f\"Area of rectangle: {area_rectangle}\")\n",
        "\n"
      ],
      "metadata": {
        "colab": {
          "base_uri": "https://localhost:8080/"
        },
        "id": "CPC9hjemX2G0",
        "outputId": "a896f245-5d82-4059-accd-d0994ac59df5"
      },
      "execution_count": null,
      "outputs": [
        {
          "output_type": "stream",
          "name": "stdout",
          "text": [
            "Area of rectangle: 15\n"
          ]
        }
      ]
    },
    {
      "cell_type": "code",
      "source": [
        "num = 15\n",
        "if num % 2 == 0:\n",
        "    print(f\"{num} is Even\")\n",
        "else:\n",
        "    print(f\"{num} is Odd\")\n",
        "\n"
      ],
      "metadata": {
        "colab": {
          "base_uri": "https://localhost:8080/"
        },
        "id": "D3ONEBk9YA1B",
        "outputId": "09635950-5635-425c-d47e-f8ec57b96c2a"
      },
      "execution_count": null,
      "outputs": [
        {
          "output_type": "stream",
          "name": "stdout",
          "text": [
            "15 is Odd\n"
          ]
        }
      ]
    },
    {
      "cell_type": "code",
      "source": [
        "num1, num2, num3 = 10, 20, 30\n",
        "average = (num1 + num2 + num3) / 3\n",
        "print(f\"Average: {average}\")\n",
        "\n"
      ],
      "metadata": {
        "colab": {
          "base_uri": "https://localhost:8080/"
        },
        "id": "v5QKv-FRYLRt",
        "outputId": "a1eba99d-b58f-46e3-daa3-a3db5d975e03"
      },
      "execution_count": null,
      "outputs": [
        {
          "output_type": "stream",
          "name": "stdout",
          "text": [
            "Average: 20.0\n"
          ]
        }
      ]
    },
    {
      "cell_type": "code",
      "source": [
        "import math\n",
        "radius = 7\n",
        "area_circle = math.pi * radius ** 2\n",
        "print(f\"Area of the circle: {area_circle:.2f}\")\n",
        "\n"
      ],
      "metadata": {
        "colab": {
          "base_uri": "https://localhost:8080/"
        },
        "id": "EMmoTZ4aYXhl",
        "outputId": "3cacc979-2696-4073-d025-6e9413876074"
      },
      "execution_count": null,
      "outputs": [
        {
          "output_type": "stream",
          "name": "stdout",
          "text": [
            "Area of the circle: 153.94\n"
          ]
        }
      ]
    },
    {
      "cell_type": "code",
      "source": [
        "text = \"Python\"\n",
        "if len(text) > 6:\n",
        "    print(\"The string has more than 6 characters.\")\n",
        "else:\n",
        "    print(\"The string has 6 or fewer characters.\")\n",
        "\n"
      ],
      "metadata": {
        "colab": {
          "base_uri": "https://localhost:8080/"
        },
        "id": "tqiAyu57YnU6",
        "outputId": "9d16b53b-7cfc-4479-9e9d-6036e971f6ab"
      },
      "execution_count": null,
      "outputs": [
        {
          "output_type": "stream",
          "name": "stdout",
          "text": [
            "The string has 6 or fewer characters.\n"
          ]
        }
      ]
    },
    {
      "cell_type": "code",
      "source": [
        "num1 = 15\n",
        "num2 = 25\n",
        "maximum = max(num1, num2)\n",
        "print(f\"The maximum number is: {maximum}\")\n",
        "\n"
      ],
      "metadata": {
        "id": "1JoMyoSoYsX_",
        "outputId": "913c249e-3242-4509-cb39-960d73cc7102",
        "colab": {
          "base_uri": "https://localhost:8080/"
        }
      },
      "execution_count": null,
      "outputs": [
        {
          "output_type": "stream",
          "name": "stdout",
          "text": [
            "The maximum number is: 25\n"
          ]
        }
      ]
    },
    {
      "cell_type": "code",
      "source": [
        "total_marks = 500\n",
        "obtained_marks = 400\n",
        "percentage = (obtained_marks / total_marks) * 100\n",
        "print(f\"Percentage: {percentage}%\")"
      ],
      "metadata": {
        "id": "3gwiZm3Sbhjs",
        "colab": {
          "base_uri": "https://localhost:8080/"
        },
        "outputId": "004103eb-0407-4b08-dfb3-5672946991e7"
      },
      "execution_count": null,
      "outputs": [
        {
          "output_type": "stream",
          "name": "stdout",
          "text": [
            "Percentage: 80.0%\n"
          ]
        }
      ]
    },
    {
      "cell_type": "code",
      "source": [
        "string = input(\"Enter a string value: \")\n",
        "char_count = {}\n",
        "\n",
        "for char in string:\n",
        "    char_count[char] = char_count.get(char, 0) + 1\n",
        "\n",
        "output = \", \".join(f\"{char}={count}\" for char, count in char_count.items())\n",
        "print(output)"
      ],
      "metadata": {
        "colab": {
          "base_uri": "https://localhost:8080/"
        },
        "id": "TassHFxpi50G",
        "outputId": "05ecf5f2-49ca-4d90-ef40-4adb3e0485bc"
      },
      "execution_count": null,
      "outputs": [
        {
          "output_type": "stream",
          "name": "stdout",
          "text": [
            "Enter a string value: alappuzha\n",
            "a=3, l=1, p=2, u=1, z=1, h=1\n"
          ]
        }
      ]
    },
    {
      "cell_type": "code",
      "source": [
        "def maximum_of_three(a, b, c):\n",
        "    return max(a, b, c)\n",
        "\n",
        "print(maximum_of_three(34, 12, 7))"
      ],
      "metadata": {
        "colab": {
          "base_uri": "https://localhost:8080/"
        },
        "id": "MbL2HaMri_lv",
        "outputId": "31483980-9c03-4f63-86fd-e55d3788f4f4"
      },
      "execution_count": null,
      "outputs": [
        {
          "output_type": "stream",
          "name": "stdout",
          "text": [
            "34\n"
          ]
        }
      ]
    },
    {
      "cell_type": "code",
      "source": [
        "def exponent(base, exp):\n",
        "    return base ** exp\n",
        "\n",
        "base = int(input(\"Enter the base: \"))\n",
        "exp = int(input(\"Enter the exponent: \"))\n",
        "print(\"Result:\", exponent(base, exp))"
      ],
      "metadata": {
        "colab": {
          "base_uri": "https://localhost:8080/"
        },
        "id": "bgby8QeNjF_b",
        "outputId": "ed648f66-c1a1-4fe9-d836-99b42d44eeb3"
      },
      "execution_count": null,
      "outputs": [
        {
          "output_type": "stream",
          "name": "stdout",
          "text": [
            "Enter the base: 3\n",
            "Enter the exponent: 2\n",
            "Result: 9\n"
          ]
        }
      ]
    },
    {
      "cell_type": "code",
      "source": [
        "def sum_of_cubes(n):\n",
        "    return sum(i**3 for i in range(1, n))\n",
        "\n",
        "print(sum_of_cubes(4))"
      ],
      "metadata": {
        "colab": {
          "base_uri": "https://localhost:8080/"
        },
        "id": "NXZ3BqYcjXpw",
        "outputId": "998a4612-c2a3-4caf-ff1a-bc62bdee3b31"
      },
      "execution_count": null,
      "outputs": [
        {
          "output_type": "stream",
          "name": "stdout",
          "text": [
            "36\n"
          ]
        }
      ]
    },
    {
      "cell_type": "code",
      "source": [
        "for i in range(1, 11):\n",
        "    if i % 2 == 0 and i % 5 == 0:\n",
        "        print(\"FizzBuzz\")\n",
        "    elif i % 2 == 0:\n",
        "        print(\"Fizz\")\n",
        "    elif i % 5 == 0:\n",
        "        print(\"Buzz\")\n",
        "    else:\n",
        "        print(i)"
      ],
      "metadata": {
        "colab": {
          "base_uri": "https://localhost:8080/"
        },
        "id": "PFgX4drpjiwA",
        "outputId": "30a10a22-a4f8-432a-ac51-37e0bb381741"
      },
      "execution_count": null,
      "outputs": [
        {
          "output_type": "stream",
          "name": "stdout",
          "text": [
            "1\n",
            "Fizz\n",
            "3\n",
            "Fizz\n",
            "Buzz\n",
            "Fizz\n",
            "7\n",
            "Fizz\n",
            "9\n",
            "FizzBuzz\n"
          ]
        }
      ]
    },
    {
      "cell_type": "code",
      "source": [
        "numbers = [2, 3, 4, 2, 5, 2]\n",
        "most_frequent = max(set(numbers), key=numbers.count)\n",
        "print(most_frequent)\n"
      ],
      "metadata": {
        "colab": {
          "base_uri": "https://localhost:8080/"
        },
        "id": "NATlG4n4jnbt",
        "outputId": "1907347b-8b7e-4ccd-e478-8766f2a359c2"
      },
      "execution_count": null,
      "outputs": [
        {
          "output_type": "stream",
          "name": "stdout",
          "text": [
            "2\n"
          ]
        }
      ]
    },
    {
      "cell_type": "code",
      "source": [
        "numbers = [2, 1, 3, 1]\n",
        "sum_of_squares = sum(x**2 for x in numbers)\n",
        "print(sum_of_squares)"
      ],
      "metadata": {
        "colab": {
          "base_uri": "https://localhost:8080/"
        },
        "id": "kctvXCOXjpqD",
        "outputId": "c7eee808-1aff-4a4e-e17c-9f108a03e43e"
      },
      "execution_count": null,
      "outputs": [
        {
          "output_type": "stream",
          "name": "stdout",
          "text": [
            "15\n"
          ]
        }
      ]
    },
    {
      "cell_type": "code",
      "source": [
        "for i in range(1, 16):\n",
        "    if i % 2 == 0:\n",
        "        print(f\"{i}-even\")\n",
        "    else:\n",
        "        print(f\"{i}-odd\")"
      ],
      "metadata": {
        "colab": {
          "base_uri": "https://localhost:8080/"
        },
        "id": "EVkGTBL9juti",
        "outputId": "7ed542ac-0032-4a54-abd5-c8c4b565a51d"
      },
      "execution_count": null,
      "outputs": [
        {
          "output_type": "stream",
          "name": "stdout",
          "text": [
            "1-odd\n",
            "2-even\n",
            "3-odd\n",
            "4-even\n",
            "5-odd\n",
            "6-even\n",
            "7-odd\n",
            "8-even\n",
            "9-odd\n",
            "10-even\n",
            "11-odd\n",
            "12-even\n",
            "13-odd\n",
            "14-even\n",
            "15-odd\n"
          ]
        }
      ]
    },
    {
      "cell_type": "code",
      "source": [
        "f = float(input(\"Enter temperature in Fahrenheit: \"))\n",
        "c = (f - 32) * 5 / 9\n",
        "print(f\"Temperature in Celsius = {round(c)}\")"
      ],
      "metadata": {
        "colab": {
          "base_uri": "https://localhost:8080/"
        },
        "id": "bRqQ1aTXjyeG",
        "outputId": "9a0d028e-7838-4d19-b813-6878aa23174d"
      },
      "execution_count": null,
      "outputs": [
        {
          "output_type": "stream",
          "name": "stdout",
          "text": [
            "Enter temperature in Fahrenheit: 314\n",
            "Temperature in Celsius = 157\n"
          ]
        }
      ]
    },
    {
      "cell_type": "code",
      "source": [
        "def factorial(n):\n",
        "    result = 1\n",
        "    for i in range(2, n + 1):\n",
        "        result *= i\n",
        "    return result\n",
        "\n",
        "print(factorial(3))"
      ],
      "metadata": {
        "colab": {
          "base_uri": "https://localhost:8080/"
        },
        "id": "02HHLTvMj5hB",
        "outputId": "96f2ed05-9ece-4f54-d8c3-8b5987b82bc8"
      },
      "execution_count": null,
      "outputs": [
        {
          "output_type": "stream",
          "name": "stdout",
          "text": [
            "6\n"
          ]
        }
      ]
    }
  ]
}